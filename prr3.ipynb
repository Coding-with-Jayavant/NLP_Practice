{
 "cells": [
  {
   "cell_type": "markdown",
   "metadata": {},
   "source": [
    "#Assignment no 3\n",
    "\n",
    "\n",
    "\n",
    "#Name: Jayavant Warkhade\n",
    "\n",
    "#Roll no:68\n",
    "\n",
    "#Batch:B4\n",
    "\n",
    "#Assignment name:Named Entity Recognition (NER) using spacy and NLTK."
   ]
  },
  {
   "cell_type": "code",
   "execution_count": 3,
   "metadata": {},
   "outputs": [],
   "source": [
    "#import library\n",
    "import spacy"
   ]
  },
  {
   "cell_type": "code",
   "execution_count": 9,
   "metadata": {},
   "outputs": [],
   "source": [
    "raw_text=\"\"\"Hii I am Jayavant Warkhade Im from kopargaon i'm first future data scientist in my family.\n",
    "if you have any query please feel free to reach me. \"\"\""
   ]
  },
  {
   "cell_type": "code",
   "execution_count": 10,
   "metadata": {},
   "outputs": [],
   "source": [
    "NER = spacy.load(\"en_core_web_sm\", disable=[\"tok2vec\", \"tagger\", \"parser\", \"attribute_ruler\", \"lemmatizer\"])"
   ]
  },
  {
   "cell_type": "code",
   "execution_count": 11,
   "metadata": {},
   "outputs": [],
   "source": [
    "text= NER(raw_text)"
   ]
  },
  {
   "cell_type": "code",
   "execution_count": 6,
   "metadata": {},
   "outputs": [
    {
     "name": "stdout",
     "output_type": "stream",
     "text": [
      "Jayavant Warkhade PERSON\n"
     ]
    }
   ],
   "source": [
    "for w in text.ents:\n",
    "    print(w.text,w.label_)"
   ]
  },
  {
   "cell_type": "code",
   "execution_count": 12,
   "metadata": {},
   "outputs": [
    {
     "data": {
      "text/html": [
       "<span class=\"tex2jax_ignore\"><div class=\"entities\" style=\"line-height: 2.5; direction: ltr\">Hii I am \n",
       "<mark class=\"entity\" style=\"background: #aa9cfc; padding: 0.45em 0.6em; margin: 0 0.25em; line-height: 1; border-radius: 0.35em;\">\n",
       "    Jayavant Warkhade\n",
       "    <span style=\"font-size: 0.8em; font-weight: bold; line-height: 1; border-radius: 0.35em; vertical-align: middle; margin-left: 0.5rem\">PERSON</span>\n",
       "</mark>\n",
       " Im from \n",
       "<mark class=\"entity\" style=\"background: #feca74; padding: 0.45em 0.6em; margin: 0 0.25em; line-height: 1; border-radius: 0.35em;\">\n",
       "    kopargaon\n",
       "    <span style=\"font-size: 0.8em; font-weight: bold; line-height: 1; border-radius: 0.35em; vertical-align: middle; margin-left: 0.5rem\">GPE</span>\n",
       "</mark>\n",
       " i'm first future data scientist in my family.<br>if you have any query please feel free to reach me. </div></span>"
      ],
      "text/plain": [
       "<IPython.core.display.HTML object>"
      ]
     },
     "metadata": {},
     "output_type": "display_data"
    }
   ],
   "source": [
    "spacy.displacy.render(text, style=\"ent\",jupyter=True)"
   ]
  },
  {
   "cell_type": "code",
   "execution_count": 7,
   "metadata": {},
   "outputs": [
    {
     "data": {
      "text/plain": [
       "'Nationalities or religious or political groups'"
      ]
     },
     "execution_count": 7,
     "metadata": {},
     "output_type": "execute_result"
    }
   ],
   "source": [
    "spacy.explain(u\"NORP\")"
   ]
  },
  {
   "cell_type": "code",
   "execution_count": 13,
   "metadata": {},
   "outputs": [],
   "source": [
    "import nltk\n",
    "from nltk.tokenize import word_tokenize\n",
    "from nltk.tag import pos_tag"
   ]
  },
  {
   "cell_type": "code",
   "execution_count": 14,
   "metadata": {},
   "outputs": [
    {
     "name": "stdout",
     "output_type": "stream",
     "text": [
      "(S\n",
      "  (PERSON Pierre/NNP)\n",
      "  (ORGANIZATION Vinken/NNP)\n",
      "  ,/,\n",
      "  61/CD\n",
      "  years/NNS\n",
      "  old/JJ\n",
      "  ,/,\n",
      "  will/MD\n",
      "  join/VB\n",
      "  the/DT\n",
      "  board/NN\n",
      "  as/IN\n",
      "  a/DT\n",
      "  nonexecutive/JJ\n",
      "  director/NN\n",
      "  Nov./NNP\n",
      "  29/CD\n",
      "  ./.)\n"
     ]
    },
    {
     "name": "stderr",
     "output_type": "stream",
     "text": [
      "[nltk_data] Downloading package treebank to\n",
      "[nltk_data]     C:\\Users\\Lenovo\\AppData\\Roaming\\nltk_data...\n",
      "[nltk_data]   Package treebank is already up-to-date!\n"
     ]
    }
   ],
   "source": [
    "nltk.download('treebank')\n",
    "sent = nltk.corpus.treebank.tagged_sents()\n",
    "print(nltk.ne_chunk(sent[0]))"
   ]
  },
  {
   "cell_type": "code",
   "execution_count": 15,
   "metadata": {},
   "outputs": [
    {
     "name": "stderr",
     "output_type": "stream",
     "text": [
      "[nltk_data] Downloading package punkt to\n",
      "[nltk_data]     C:\\Users\\Lenovo\\AppData\\Roaming\\nltk_data...\n",
      "[nltk_data]   Package punkt is already up-to-date!\n",
      "[nltk_data] Downloading package averaged_perceptron_tagger to\n",
      "[nltk_data]     C:\\Users\\Lenovo\\AppData\\Roaming\\nltk_data...\n",
      "[nltk_data]   Package averaged_perceptron_tagger is already up-to-\n",
      "[nltk_data]       date!\n"
     ]
    }
   ],
   "source": [
    "nltk.download('punkt')\n",
    "nltk.download('averaged_perceptron_tagger')\n",
    "raw_words= word_tokenize(raw_text)\n",
    "tags=pos_tag(raw_words)"
   ]
  },
  {
   "cell_type": "code",
   "execution_count": 16,
   "metadata": {},
   "outputs": [
    {
     "name": "stdout",
     "output_type": "stream",
     "text": [
      "(S\n",
      "  Hii/NNP\n",
      "  I/PRP\n",
      "  am/VBP\n",
      "  (NE Jayavant/JJ Warkhade/NNP Im/NNP)\n",
      "  from/IN\n",
      "  kopargaon/NN\n",
      "  i/NN\n",
      "  'm/VBP\n",
      "  first/JJ\n",
      "  future/NN\n",
      "  data/NNS\n",
      "  scientist/NN\n",
      "  in/IN\n",
      "  my/PRP$\n",
      "  family/NN\n",
      "  ./.\n",
      "  if/IN\n",
      "  you/PRP\n",
      "  have/VBP\n",
      "  any/DT\n",
      "  query/JJ\n",
      "  please/NN\n",
      "  feel/VB\n",
      "  free/JJ\n",
      "  to/TO\n",
      "  reach/VB\n",
      "  me/PRP\n",
      "  ./.)\n"
     ]
    },
    {
     "name": "stderr",
     "output_type": "stream",
     "text": [
      "[nltk_data] Downloading package maxent_ne_chunker to\n",
      "[nltk_data]     C:\\Users\\Lenovo\\AppData\\Roaming\\nltk_data...\n",
      "[nltk_data]   Package maxent_ne_chunker is already up-to-date!\n",
      "[nltk_data] Downloading package words to\n",
      "[nltk_data]     C:\\Users\\Lenovo\\AppData\\Roaming\\nltk_data...\n",
      "[nltk_data]   Package words is already up-to-date!\n"
     ]
    }
   ],
   "source": [
    "nltk.download('maxent_ne_chunker')\n",
    "nltk.download('words')\n",
    "ne = nltk.ne_chunk(tags,binary=True)\n",
    "print(ne)"
   ]
  },
  {
   "cell_type": "code",
   "execution_count": 17,
   "metadata": {},
   "outputs": [
    {
     "data": {
      "text/plain": [
       "[('Hii', 'NNP', 'O'),\n",
       " ('I', 'PRP', 'O'),\n",
       " ('am', 'VBP', 'O'),\n",
       " ('Jayavant', 'JJ', 'B-NE'),\n",
       " ('Warkhade', 'NNP', 'I-NE'),\n",
       " ('Im', 'NNP', 'I-NE'),\n",
       " ('from', 'IN', 'O'),\n",
       " ('kopargaon', 'NN', 'O'),\n",
       " ('i', 'NN', 'O'),\n",
       " (\"'m\", 'VBP', 'O'),\n",
       " ('first', 'JJ', 'O'),\n",
       " ('future', 'NN', 'O'),\n",
       " ('data', 'NNS', 'O'),\n",
       " ('scientist', 'NN', 'O'),\n",
       " ('in', 'IN', 'O'),\n",
       " ('my', 'PRP$', 'O'),\n",
       " ('family', 'NN', 'O'),\n",
       " ('.', '.', 'O'),\n",
       " ('if', 'IN', 'O'),\n",
       " ('you', 'PRP', 'O'),\n",
       " ('have', 'VBP', 'O'),\n",
       " ('any', 'DT', 'O'),\n",
       " ('query', 'JJ', 'O'),\n",
       " ('please', 'NN', 'O'),\n",
       " ('feel', 'VB', 'O'),\n",
       " ('free', 'JJ', 'O'),\n",
       " ('to', 'TO', 'O'),\n",
       " ('reach', 'VB', 'O'),\n",
       " ('me', 'PRP', 'O'),\n",
       " ('.', '.', 'O')]"
      ]
     },
     "execution_count": 17,
     "metadata": {},
     "output_type": "execute_result"
    }
   ],
   "source": [
    "from nltk.chunk import tree2conlltags\n",
    "iob = tree2conlltags(ne)\n",
    "iob"
   ]
  }
 ],
 "metadata": {
  "kernelspec": {
   "display_name": "Python 3",
   "language": "python",
   "name": "python3"
  },
  "language_info": {
   "codemirror_mode": {
    "name": "ipython",
    "version": 3
   },
   "file_extension": ".py",
   "mimetype": "text/x-python",
   "name": "python",
   "nbconvert_exporter": "python",
   "pygments_lexer": "ipython3",
   "version": "3.11.1"
  }
 },
 "nbformat": 4,
 "nbformat_minor": 2
}
